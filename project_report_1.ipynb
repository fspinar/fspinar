{
  "nbformat": 4,
  "nbformat_minor": 0,
  "metadata": {
    "colab": {
      "provenance": [],
      "include_colab_link": true
    },
    "kernelspec": {
      "name": "python3",
      "display_name": "Python 3"
    },
    "language_info": {
      "name": "python"
    }
  },
  "cells": [
    {
      "cell_type": "markdown",
      "metadata": {
        "id": "view-in-github",
        "colab_type": "text"
      },
      "source": [
        "<a href=\"https://colab.research.google.com/github/fspinar/fspinar/blob/main/project_report_1.ipynb\" target=\"_parent\"><img src=\"https://colab.research.google.com/assets/colab-badge.svg\" alt=\"Open In Colab\"/></a>"
      ]
    },
    {
      "cell_type": "markdown",
      "source": [
        "### **Healthcare Time Series Analysis for Patient Monitoring**\n",
        "\n",
        "*Team Member:Wenjing Wang，Fatih Sogukpinar，Yusheng Yang*"
      ],
      "metadata": {
        "id": "ev0VetNB8lVU"
      }
    },
    {
      "cell_type": "markdown",
      "source": [
        "### **Abstract**"
      ],
      "metadata": {
        "id": "LEK5YbYS8yX3"
      }
    },
    {
      "cell_type": "markdown",
      "source": [
        "Our project aims to develop a predictive tool for monitoring ICU patients’ vital signs, such as heart rate and blood pressure, to anticipate critical health events or deterioration in a patient’s condition.\n",
        "\n",
        "By analyzing time series data from the MIMIC-III Clinical Database, the project will utilize machine learning techniques such as Recurrent Neural Networks (RNN), Long Short-Term Memory networks (LSTM), anomaly detection, and survival analysis to detect and predict adverse events in real-time.\n",
        "\n",
        "The expected outcome is a decision-support system to alert medical staff to potential crises before they occur, improving patient outcomes and optimizing healthcare resources. We also aim to extend the results into hardware applications, such as wearable devices."
      ],
      "metadata": {
        "id": "Y6W9RGBv_4bt"
      }
    },
    {
      "cell_type": "code",
      "source": [],
      "metadata": {
        "id": "twsWWiYaAI08"
      },
      "execution_count": null,
      "outputs": []
    },
    {
      "cell_type": "markdown",
      "source": [
        "### **Project Description**"
      ],
      "metadata": {
        "id": "kpNwnmLR_X36"
      }
    },
    {
      "cell_type": "markdown",
      "source": [
        "Motivation\n",
        "\n",
        "There is a critical gap in current healthcare systems regarding the ability to predict adverse events or deteriorating conditions in ICU patients in real-time. The current state relies heavily on reactive measures after the patient shows clear signs of distress. However, the desired future state is to proactively monitor patients and predict when these critical events might happen, allowing for earlier intervention.\n"
      ],
      "metadata": {
        "id": "lGks5O2JABuD"
      }
    },
    {
      "cell_type": "markdown",
      "source": [
        "undesirable gap?"
      ],
      "metadata": {
        "id": "ln6RqZ8GANi2"
      }
    },
    {
      "cell_type": "markdown",
      "source": [
        "decisions will be impacting?\n",
        "\n",
        "The predictive model will affect how healthcare providers intervene before critical health events occur. By anticipating adverse events, such as cardiac arrest or repiratory failure, healthcare staff can make more informed decisions, allowing for earlier interventions, potentially preventing patient deterioration, and improving overall outcomes. These decisions would affect the preparation for emergency procedures in a timely manner and thus healthcare providers can shift from a reactive to a proactive approach, reducing the time between detecting and responding to critical health issues.\n"
      ],
      "metadata": {
        "id": "Q4gFxszKAR0z"
      }
    },
    {
      "cell_type": "markdown",
      "source": [
        "\n",
        "business/societal value of the decisions to be impacted?\n",
        "\n",
        "Business value would be the predictive tool has the potential to optimize hospital operations, leading to cost reductions and better resource management.\n",
        "Societal value would be the enhancement of patient outcomes and the overall quality of healthcare services. Early prediction of critical health events will significantly improve patient survival rates by preventing conditions from escalating.\n"
      ],
      "metadata": {
        "id": "GVxs4MWqAd2z"
      }
    },
    {
      "cell_type": "markdown",
      "source": [
        "Why is this project important to you?\n",
        "\n",
        "Since human beings, lives, are very important to individuals, society and nation, we should make efforts to help medical institutions to save lives.\n"
      ],
      "metadata": {
        "id": "73H8L9snAiII"
      }
    },
    {
      "cell_type": "code",
      "source": [],
      "metadata": {
        "id": "4owXKMouAs2H"
      },
      "execution_count": null,
      "outputs": []
    },
    {
      "cell_type": "markdown",
      "source": [
        "### **Bibliography**"
      ],
      "metadata": {
        "id": "UAtnryvrAvSt"
      }
    },
    {
      "cell_type": "markdown",
      "source": [],
      "metadata": {
        "id": "26qWaYfMA2Jw"
      }
    }
  ]
}